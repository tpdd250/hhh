{
 "cells": [
  {
   "cell_type": "markdown",
   "metadata": {},
   "source": [
    "# 均值方差投资组合的改进"
   ]
  },
  {
   "cell_type": "markdown",
   "metadata": {},
   "source": [
    "### 矩阵和方差的估计\n",
    "\n",
    "+ 在均值方差投资组合模型中，大家发现对于中高频数据，估计均值比估计方差更困难。著名的 **Black-Litterman** (1992) 投资投资组合选择模型力图提供解决该问题的方案。 \n",
    "\n",
    "+ 我们将要描述的**稳健投资组合选择**也是基于此出发点发展起来的。\n",
    "\n",
    "+ 我们首先介绍BL模型，改进均值方差投资组合模型，然后根据分析验证均值估计的难度。　\n",
    "\n",
    "我们将介绍和回顾如下内容：　\n",
    "\n",
    "- 均值方差投资组合理论\n",
    "- 线性回归的贝叶斯方法\n",
    "- 风险敏感算子及其和稳健控制理论的关系 \n",
    "\n",
    "　"
   ]
  },
  {
   "cell_type": "code",
   "execution_count": 1,
   "metadata": {
    "hide-output": false
   },
   "outputs": [],
   "source": [
    "import numpy as np\n",
    "import scipy as sp\n",
    "import scipy.stats as stat\n",
    "import matplotlib.pyplot as plt\n",
    "%matplotlib inline\n",
    "from ipywidgets import interact, FloatSlider"
   ]
  },
  {
   "cell_type": "markdown",
   "metadata": {},
   "source": [
    "### 均值方差投资组合, 带风险厌恶参数的形式\n",
    "\n",
    "这里我们用另一种方式介绍均值方差组合。首先介绍记号：\n",
    "\n",
    "+ 单期无风险收益率 $ r_f $.\n",
    "\n",
    "+ 一个 $ n \\times 1 $ 向量$\\vec r$，表示风险资产的收益率，而\n",
    "  $ \\vec r - r_f {\\bf 1} $ 表示**超额收益率**,其中   $ {\\bf 1} $  表示 $ n \\times 1 $个1构成的向量。\n",
    "\n",
    "超额收益向量满足均值为 $ \\mu $，协方差为\n",
    "  $ \\Sigma $的**正态分布** ，表示为：\n",
    "$$\n",
    "\\vec r - r_f {\\bf 1} \\sim {\\mathcal N}(\\mu, \\Sigma)\n",
    "$$\n",
    "\n",
    "或者\n",
    "$$\n",
    "\\vec r - r_f {\\bf 1} = \\mu + C \\epsilon\n",
    "$$\n",
    "\n",
    "其中  $ \\epsilon \\sim {\\mathcal N}(0, I) $是$ n \\times 1 $标准正态随机向量.\n",
    "\n",
    "记 $ w $ 为 $ n \\times 1 $ 投资权重向量.\n",
    "\n",
    "则投资组合 $ w $ 的收益率分布满足\n",
    "\n",
    "$$\n",
    "w' (\\vec r - r_f {\\bf 1}) \\sim {\\mathcal N}(w' \\mu, w' \\Sigma w )\n",
    "$$\n",
    "\n",
    "+  **均值方差投资组合问题** 是选择$ w $ 以极大化\n",
    "\n",
    "\n",
    "<a id='equation-choice-problem'></a>\n",
    "$$\n",
    "U(\\mu,\\Sigma;w) = w'\\mu - \\frac{\\delta}{2} w' \\Sigma w \\tag{1}\n",
    "$$\n",
    "\n",
    "其中 $ \\delta > 0 $ 是风险厌恶参数，极大化 (1)的一阶条件为 \n",
    "\n",
    "$$\n",
    "\\mu = \\delta \\Sigma w\n",
    "$$\n",
    "\n",
    "风险资产组合权重\n",
    "\n",
    "\n",
    "<a id='equation-risky-portfolio'></a>\n",
    "$$\n",
    "w = (\\delta \\Sigma)^{-1} \\mu \\tag{2}\n",
    "$$\n",
    "\n",
    "这和我们的切线组合类似，$\\delta$决定了投资于风险资产的比例。"
   ]
  },
  {
   "cell_type": "markdown",
   "metadata": {},
   "source": [
    "###  均值和方差的估计\n",
    "\n",
    "投资组合模型(2)需要输入的两个量包括\n",
    "\n",
    "-  参数 $ \\mu, \\Sigma $,其决定超额收益率$ (\\vec r - r_f {\\bf 1}) $的分布\n",
    "-  风险厌恶系数 $ \\delta $  \n",
    "\n",
    "\n",
    "估计  $ \\mu $ 的标准方法是极大似然估计或者最小二乘估计,在正态假设下，就是样本均值和样本协方差。 "
   ]
  },
  {
   "cell_type": "markdown",
   "metadata": {},
   "source": [
    "###  Why BL 模型\n",
    "\n",
    "从历史数据估计  $ \\mu $ 和 $ \\Sigma $并结合 **合理的** 风险厌恶参数,式 (2)通常给出极端的多空头寸( **extreme long and short positions**).\n",
    "\n",
    "投资组合的管理者显然不可能将这种组合推荐给顾客。 "
   ]
  },
  {
   "cell_type": "code",
   "execution_count": 7,
   "metadata": {
    "hide-output": false
   },
   "outputs": [
    {
     "data": {
      "image/png": "[encoded data removed]",
      "text/plain": [
       "<Figure size 576x360 with 1 Axes>"
      ]
     },
     "metadata": {
      "needs_background": "light"
     },
     "output_type": "display_data"
    }
   ],
   "source": [
    "#np.random.seed(12)\n",
    " \n",
    "N = 10   #资产数量                                       \n",
    "T = 200  #样本量                                      \n",
    "\n",
    "# 随机的市场组合，\n",
    "#市场组合是资产按市值比例构成的组合，即投资者群体作为一个整体持有的组合\n",
    "w_m = np.random.rand(N)\n",
    "w_m = w_m / (w_m.sum())\n",
    "\n",
    "\n",
    "mu = (np.random.randn(N) + 5)  /100      # 平均超额收益\n",
    "S = np.random.randn(N, N)        # 生成一个随机矩阵\n",
    "V = S @ S.T           # 构造对称的协方差矩阵\n",
    "#  调整使得sharp比为1，这些设定让市场组合看起来合理。\n",
    "Sigma = V * (w_m @ mu)**2 / (w_m @ V @ w_m)\n",
    "\n",
    "# 风险厌恶参数 \n",
    "delta = 1 / np.sqrt(w_m @ Sigma @ w_m)\n",
    "\n",
    "# 生成样本超额收益率\n",
    "excess_return = stat.multivariate_normal(mu, Sigma)\n",
    "sample = excess_return.rvs(T)\n",
    "\n",
    "# Estimate μ and Σ\n",
    "mu_est = sample.mean(0).reshape(N, 1)\n",
    "Sigma_est = np.cov(sample.T)\n",
    "\n",
    "w = np.linalg.solve(delta * Sigma_est, mu_est)\n",
    "\n",
    "fig, ax = plt.subplots(figsize=(8, 5))\n",
    "ax.set_title('Mean-variance portfolio weights recommendation and the market portfolio')\n",
    "ax.plot(np.arange(N)+1, w, 'o', c='k', label='$w$ (mean-variance)')\n",
    "ax.plot(np.arange(N)+1, w_m, 'o', c='r', label='$w_m$ (market portfolio)')\n",
    "ax.vlines(np.arange(N)+1, 0, w, lw=1)\n",
    "ax.vlines(np.arange(N)+1, 0, w_m, lw=1)\n",
    "ax.axhline(0, c='k')\n",
    "ax.axhline(-1, c='k', ls='--')\n",
    "ax.axhline(1, c='k', ls='--')\n",
    "ax.set_xlabel('Assets')\n",
    "ax.xaxis.set_ticks(np.arange(1, N+1, 1))\n",
    "plt.legend(numpoints=1, fontsize=11)\n",
    "plt.show()"
   ]
  },
  {
   "cell_type": "markdown",
   "metadata": {},
   "source": [
    "Black and Litterman 对这种情况如下处理:\n",
    "\n",
    "- 接受(2) 确定最优投资组合的最优权重$ w $.  \n",
    "- 继续使用 $ \\delta $表示投资者的风险厌恶 \n",
    "- 使用 $ \\Sigma $的极大似然估计值，单改变 \n",
    "  $ \\mu $,使得优化的结果贴近市场组合（可以理解为大多数投资组合并持有的组合）。  \n",
    "\n",
    "\n",
    "解法如下， 使用市场的$ \\Sigma $，选择一个合理的 $ \\delta $, 反解超额收益\n",
    "$ \\mu_{BL} $ 使得(2)式确定的 $ w $ 正好等于 **实际的** 市场组合\n",
    "$ w_m $, \n",
    "\n",
    "$$\n",
    "w_m = (\\delta \\Sigma)^{-1} \\mu_{BL}\n",
    "$$\n",
    "\n",
    "这个\n",
    "$ \\mu_{BL} $ 理解为市场观点。"
   ]
  },
  {
   "cell_type": "markdown",
   "metadata": {},
   "source": [
    "### 细节,如何求$\\delta$\n",
    "\n",
    "定义\n",
    "\n",
    "$$\n",
    "w_m' \\mu \\equiv ( r_m - r_f)\n",
    "$$\n",
    "\n",
    "为市场组合$w_m$的超额收益.\n",
    "\n",
    "定义市场组合$ w_m $超额收益的方差 \n",
    "$$\n",
    "\\sigma^2 = w_m' \\Sigma w_m\n",
    "$$\n",
    "\n",
    "\n",
    "定义市场组合**Sharpe-ratio**\n",
    "$$\n",
    "{\\bf SR}_m = \\frac{ r_m - r_f}{\\sigma}\n",
    "$$\n",
    " \n",
    "由一阶条件\n",
    "$$\n",
    "w_m'\\mu = \\delta w_m'\\Sigma w_m\n",
    "$$\n",
    "  \n",
    " 得\n",
    "$ r_m - r_f = \\delta_m \\sigma^2 $ or\n",
    "\n",
    "$$\n",
    "\\delta_m = \\frac{r_m - r_f}{\\sigma^2}\n",
    "$$\n",
    "\n",
    "or\n",
    "\n",
    "$$\n",
    "\\delta_m = \\frac{{\\bf SR}_m}{\\sigma}\n",
    "$$\n",
    "\n",
    "这样第一步中，我们通过估计${\\bf SR}$，$\\sigma$得到 $\\delta_m$的估计。\n",
    "\n",
    "\n",
    "第二步中，我们利用$ \\delta_m $，以及 \n",
    "$ \\Sigma $的极大似然估计，通过(2)推导  $ \\mu_{\\bf BL} $  \n",
    "\n",
    "$$\n",
    "\\mu_m = \\delta_m \\Sigma w_m\n",
    "$$\n",
    "\n",
    "到这一步， Black-Litterman portfolio模型得出  $ (\\delta_m, \\mu_m) $，告诉投资者持有市场组合。 "
   ]
  },
  {
   "cell_type": "code",
   "execution_count": 9,
   "metadata": {
    "hide-output": false
   },
   "outputs": [
    {
     "data": {
      "image/png": "[encoded data removed]",
      "text/plain": [
       "<Figure size 576x360 with 1 Axes>"
      ]
     },
     "metadata": {
      "needs_background": "light"
     },
     "output_type": "display_data"
    }
   ],
   "source": [
    "# Observed mean excess market return\n",
    "r_m = w_m @ mu_est\n",
    "\n",
    "# Estimated variance of the market portfolio\n",
    "sigma_m = w_m @ Sigma_est @ w_m\n",
    "\n",
    "# Sharpe-ratio\n",
    "sr_m = r_m / np.sqrt(sigma_m)\n",
    "\n",
    "# Risk aversion of market portfolio holder\n",
    "d_m = r_m / sigma_m\n",
    "\n",
    "# Derive \"view\" which would induce the market portfolio\n",
    "mu_m = (d_m * Sigma_est @ w_m).reshape(N, 1)\n",
    "\n",
    "fig, ax = plt.subplots(figsize=(8, 5))\n",
    "ax.set_title(r'Difference between $\\hat{\\mu}$ (estimate) and \\\n",
    "              $\\mu_{BL}$ (market implied)')\n",
    "ax.plot(np.arange(N)+1, mu_est, 'o', c='k', label='$\\hat{\\mu}$')\n",
    "ax.plot(np.arange(N)+1, mu_m, 'o', c='r', label='$\\mu_{BL}$')\n",
    "ax.vlines(np.arange(N) + 1, mu_m, mu_est, lw=1)\n",
    "ax.axhline(0, c='k', ls='--')\n",
    "ax.set_xlabel('Assets')\n",
    "ax.xaxis.set_ticks(np.arange(1, N+1, 1))\n",
    "plt.legend(numpoints=1)\n",
    "plt.show()"
   ]
  },
  {
   "cell_type": "markdown",
   "metadata": {},
   "source": [
    "###  增加\"观点\"\n",
    "\n",
    "+ Black and Litterman 设定了一个基准投资者，其具有市场观点**market’s views**，认为超额收益率满足如下： \n",
    "<a id='equation-excess-returns'></a>\n",
    "$$\n",
    "\\vec r - r_f {\\bf 1} \\sim {\\mathcal N}( \\mu_{BL}, \\Sigma) \\tag{3}\n",
    "$$\n",
    "按照模型，基准投资者持有市场组合。\n",
    "\n",
    "+ Black and Litterman 模型然后假设投资者可能具有和“市场观点”不一致的观点。  投资者希望恰当地融合自己的观点和市场观点进行投资组合选择。　\n",
    "\n",
    "+ 假设投资者的观点和(3)不同, 超额收益率如下表示：\n",
    "$$\n",
    "\\vec r - r_f {\\bf 1} \\sim {\\mathcal N}( \\hat \\mu, \\tau \\Sigma)\n",
    "$$\n",
    " 其中参数 $ \\tau > 0 $确定投资者如何将其自身观点$ \\hat \\mu $ 和市场观点$ \\mu_{\\bf BL} $进行融合。$\\tau$越大,自身观点越不确定,在融合中的权重就应该越低.\n",
    "\n",
    "+  Black and Litterman利用如下公式进行观点\n",
    "$ \\hat \\mu $ and $ \\mu_{\\bf BL} $的融合，得到新的超额收益率。\n",
    "\n",
    "\n",
    "<a id='equation-mix-views'></a>\n",
    "$$\n",
    "\\tilde \\mu = (\\Sigma^{-1} + (\\tau \\Sigma)^{-1})^{-1} (\\Sigma^{-1} \\mu_{BL}  + (\\tau \\Sigma)^{-1} \\hat \\mu) \\tag{4}\n",
    "$$\n",
    "\n",
    "+ 　而最终推荐的投资组合则由下式给出。\n",
    "$$\n",
    "\\tilde w = (\\delta \\Sigma)^{-1} \\tilde \\mu\n",
    "$$\n",
    "组合 $ \\tilde w $偏离$ w_{BL} $的程度依赖参数$ \\tau $. "
   ]
  },
  {
   "cell_type": "code",
   "execution_count": 10,
   "metadata": {
    "hide-output": false
   },
   "outputs": [
    {
     "data": {
      "application/vnd.jupyter.widget-view+json": {
       "model_id": "96a6888dcb5d45eea70a76091fcdd009",
       "version_major": 2,
       "version_minor": 0
      },
      "text/plain": [
       "interactive(children=(FloatSlider(value=1.0, description='tau', max=10.0, min=0.05, step=0.5), Output()), _dom…"
      ]
     },
     "metadata": {},
     "output_type": "display_data"
    }
   ],
   "source": [
    "def black_litterman(la , mu1, mu2, Sigma1, Sigma2):\n",
    "    \"\"\"\n",
    "    This function calculates the Black-Litterman mixture\n",
    "    mean excess return and covariance matrix\n",
    "    \"\"\"\n",
    "    Sigma1_inv = np.linalg.inv(Sigma1)\n",
    "    Sigma2_inv = np.linalg.inv(Sigma2)\n",
    "\n",
    "    mu_tilde = np.linalg.solve(Sigma1_inv + la * Sigma2_inv,\n",
    "                              Sigma1_inv @ mu1 + la * Sigma2_inv @ mu2)\n",
    "    return mu_tilde\n",
    "\n",
    "tau = 1\n",
    "mu_tilde = black_litterman(1, mu_m, mu_est, Sigma_est, tau * Sigma_est)\n",
    "\n",
    "# The Black-Litterman recommendation for the portfolio weights\n",
    "w_tilde = np.linalg.solve(delta * Sigma_est, mu_tilde)\n",
    "\n",
    "tau_slider = FloatSlider(min=0.05, max=10, step=0.5, value=tau)\n",
    "\n",
    "@interact(tau=tau_slider)\n",
    "def BL_plot(tau):\n",
    "    mu_tilde = black_litterman(1, mu_m, mu_est, Sigma_est, tau * Sigma_est)\n",
    "    w_tilde = np.linalg.solve(delta * Sigma_est, mu_tilde)\n",
    "\n",
    "    fig, ax = plt.subplots(1, 2, figsize=(16, 6))\n",
    "    ax[0].plot(np.arange(N)+1, mu_est, 'o', c='k',\n",
    "               label=r'$\\hat{\\mu}$ (subj view)')\n",
    "    ax[0].plot(np.arange(N)+1, mu_m, 'o', c='r',\n",
    "               label=r'$\\mu_{BL}$ (market)')\n",
    "    ax[0].plot(np.arange(N)+1, mu_tilde, 'o', c='y',\n",
    "               label=r'$\\tilde{\\mu}$ (mixture)')\n",
    "    ax[0].vlines(np.arange(N)+1, mu_m, mu_est, lw=1)\n",
    "    ax[0].axhline(0, c='k', ls='--')\n",
    "    ax[0].set(xlim=(0, N+1), xlabel='Assets',\n",
    "              title=r'Relationship between $\\hat{\\mu}$, \\\n",
    "                      $\\mu_{BL}$and$\\tilde{\\mu}$')\n",
    "    ax[0].xaxis.set_ticks(np.arange(1, N+1, 1))\n",
    "    ax[0].legend(numpoints=1)\n",
    "\n",
    "    ax[1].set_title('Black-Litterman portfolio weight recommendation')\n",
    "    ax[1].plot(np.arange(N)+1, w, 'o', c='k', label=r'$w$ (mean-variance)')\n",
    "    ax[1].plot(np.arange(N)+1, w_m, 'o', c='r', label=r'$w_{m}$ (market, BL)')\n",
    "    ax[1].plot(np.arange(N)+1, w_tilde, 'o', c='y',\n",
    "               label=r'$\\tilde{w}$ (mixture)')\n",
    "    ax[1].vlines(np.arange(N)+1, 0, w, lw=1)\n",
    "    ax[1].vlines(np.arange(N)+1, 0, w_m, lw=1)\n",
    "    ax[1].axhline(0, c='k')\n",
    "    ax[1].axhline(-1, c='k', ls='--')\n",
    "    ax[1].axhline(1, c='k', ls='--')\n",
    "    ax[1].set(xlim=(0, N+1), xlabel='Assets',\n",
    "              title='Black-Litterman portfolio weight recommendation')\n",
    "    ax[1].xaxis.set_ticks(np.arange(1, N+1, 1))\n",
    "    ax[1].legend(numpoints=1)\n",
    "    plt.show()"
   ]
  }
 ],
 "metadata": {
  "date": 1603853325.1177468,
  "filename": "black_litterman.rst",
  "kernelspec": {
   "display_name": "Python 3 (ipykernel)",
   "language": "python",
   "name": "python3"
  },
  "language_info": {
   "codemirror_mode": {
    "name": "ipython",
    "version": 3
   },
   "file_extension": ".py",
   "mimetype": "text/x-python",
   "name": "python",
   "nbconvert_exporter": "python",
   "pygments_lexer": "ipython3",
   "version": "3.9.7"
  },
  "next_doc": {
   "link": "BCG_complete_mkts",
   "title": "Irrelevance of Capital Structures with Complete Markets"
  },
  "prev_doc": {
   "link": "lucas_model",
   "title": "Asset Pricing II: The Lucas Asset Pricing Model"
  },
  "title": "Two Modifications of Mean-Variance Portfolio Theory"
 },
 "nbformat": 4,
 "nbformat_minor": 4
}
